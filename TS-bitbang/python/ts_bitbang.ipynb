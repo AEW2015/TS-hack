{
 "cells": [
  {
   "cell_type": "markdown",
   "id": "167c7936-a329-4ef5-8296-99b0abe64a29",
   "metadata": {},
   "source": [
    "Example PCIe endpoint re-enumrate if BAR is the same\n",
    "```\n",
    "echo 1 > /sys/bus/pci/devices/0000\\:06\\:00.0/remove\n",
    "echo 1 > /sys/bus/pci/rescan\n",
    "echo 1 > /sys/bus/pci/devices/0000\\:06\\:00.0/enable\n",
    "```"
   ]
  },
  {
   "cell_type": "code",
   "execution_count": 1,
   "id": "b4212d4e-7dad-401b-a32b-d41fe01ebb18",
   "metadata": {
    "jupyter": {
     "source_hidden": true
    }
   },
   "outputs": [],
   "source": [
    "from pcie_mem_util import *"
   ]
  },
  {
   "cell_type": "code",
   "execution_count": 2,
   "id": "a33b53db-c9de-4814-9dc3-9da2c5216fe7",
   "metadata": {},
   "outputs": [],
   "source": [
    "pcie_offset = 0xC0000000 #not always the same\n",
    "tlb_offset = 0xC0000000"
   ]
  },
  {
   "cell_type": "code",
   "execution_count": 3,
   "id": "6d5af259-521e-4004-b0a9-cf2a6c93dd67",
   "metadata": {},
   "outputs": [],
   "source": [
    "bram_offset = 0xC0000000\n",
    "bram_offset = bram_offset - tlb_offset + pcie_offset\n",
    "mem = PcieMem(bram_offset)"
   ]
  },
  {
   "cell_type": "code",
   "execution_count": 4,
   "id": "3d237955-cd9b-42a8-ae74-ca90d05d3dd8",
   "metadata": {},
   "outputs": [
    {
     "data": {
      "text/plain": [
       "'0xdeadbeef'"
      ]
     },
     "execution_count": 4,
     "metadata": {},
     "output_type": "execute_result"
    }
   ],
   "source": [
    "hex(mem.wread(0))"
   ]
  },
  {
   "cell_type": "code",
   "execution_count": 5,
   "id": "203fef54-43fc-4529-b21e-3a3e900d9efd",
   "metadata": {
    "scrolled": true
   },
   "outputs": [],
   "source": [
    "mem.wwrite(0,0xdeadbeef)"
   ]
  },
  {
   "cell_type": "code",
   "execution_count": 6,
   "id": "c807141a-0cb2-4e7a-9ca9-b916d5bee9e3",
   "metadata": {},
   "outputs": [
    {
     "data": {
      "text/plain": [
       "'0xdeadbeef'"
      ]
     },
     "execution_count": 6,
     "metadata": {},
     "output_type": "execute_result"
    }
   ],
   "source": [
    "hex(mem.wread(0))"
   ]
  },
  {
   "cell_type": "code",
   "execution_count": 7,
   "id": "9e0295e1-4256-40df-b567-83aa3ba8cdb8",
   "metadata": {},
   "outputs": [],
   "source": [
    "mem.close()"
   ]
  },
  {
   "cell_type": "markdown",
   "id": "8cedd100-0640-4b14-bf87-e679d9eaf4d4",
   "metadata": {},
   "source": [
    "Enable Power"
   ]
  },
  {
   "cell_type": "code",
   "execution_count": 71,
   "id": "7cf7d4f3-3cf6-4c54-8d79-a141e930d601",
   "metadata": {},
   "outputs": [],
   "source": [
    "en_offset = 0xC0010000\n",
    "en_offset = en_offset - tlb_offset +pcie_offset\n",
    "mem = PcieMem(en_offset)"
   ]
  },
  {
   "cell_type": "code",
   "execution_count": 72,
   "id": "5ff56b7e-a062-4460-a988-30856f345875",
   "metadata": {},
   "outputs": [],
   "source": [
    "mem.wwrite(0,0x0)"
   ]
  },
  {
   "cell_type": "code",
   "execution_count": 73,
   "id": "079c14f5-d079-45aa-bdc1-f503bd3f895d",
   "metadata": {},
   "outputs": [
    {
     "data": {
      "text/plain": [
       "'0x0'"
      ]
     },
     "execution_count": 73,
     "metadata": {},
     "output_type": "execute_result"
    }
   ],
   "source": [
    "hex(mem.wread(0))"
   ]
  },
  {
   "cell_type": "code",
   "execution_count": 74,
   "id": "2aec943b-1522-48ce-850c-23b5306062fc",
   "metadata": {},
   "outputs": [],
   "source": [
    "mem.wwrite(0,0x3)"
   ]
  },
  {
   "cell_type": "code",
   "execution_count": 75,
   "id": "f384bd45-8528-46e2-b614-f04b16ba1f72",
   "metadata": {
    "scrolled": true
   },
   "outputs": [
    {
     "data": {
      "text/plain": [
       "'0x3'"
      ]
     },
     "execution_count": 75,
     "metadata": {},
     "output_type": "execute_result"
    }
   ],
   "source": [
    "hex(mem.wread(0))"
   ]
  },
  {
   "cell_type": "code",
   "execution_count": 76,
   "id": "9e927bfc-b412-4649-b430-89de0f152a60",
   "metadata": {},
   "outputs": [],
   "source": [
    "mem.wwrite(0,0x7)"
   ]
  },
  {
   "cell_type": "code",
   "execution_count": 77,
   "id": "e8be2402-da2e-407b-97e1-75d3de4ad5f1",
   "metadata": {},
   "outputs": [
    {
     "data": {
      "text/plain": [
       "'0x7'"
      ]
     },
     "execution_count": 77,
     "metadata": {},
     "output_type": "execute_result"
    }
   ],
   "source": [
    "hex(mem.wread(0))"
   ]
  },
  {
   "cell_type": "code",
   "execution_count": 78,
   "id": "89c85e08-dbe7-402e-8db2-4dac2f400fa5",
   "metadata": {},
   "outputs": [],
   "source": [
    "mem.close()"
   ]
  },
  {
   "cell_type": "markdown",
   "id": "3032464e-7d04-446f-9460-38af258ed5dd",
   "metadata": {},
   "source": [
    "Turn on power"
   ]
  },
  {
   "cell_type": "code",
   "execution_count": 79,
   "id": "f2682290-ec8d-4b69-a7d0-cc758fabf429",
   "metadata": {},
   "outputs": [],
   "source": [
    "led_offset = 0xC0020000\n",
    "led_offset = led_offset - tlb_offset +pcie_offset\n",
    "mem = PcieMem(led_offset)"
   ]
  },
  {
   "cell_type": "code",
   "execution_count": 80,
   "id": "b5704c79-8883-40e6-b1fb-9f5257445b3b",
   "metadata": {},
   "outputs": [
    {
     "data": {
      "text/plain": [
       "'0x1'"
      ]
     },
     "execution_count": 80,
     "metadata": {},
     "output_type": "execute_result"
    }
   ],
   "source": [
    "hex(mem.wread(0))"
   ]
  },
  {
   "cell_type": "code",
   "execution_count": 81,
   "id": "ded0dd05-4059-4c81-9fe2-acd97c1e19b5",
   "metadata": {},
   "outputs": [],
   "source": [
    "mem.wwrite(0,0x1)"
   ]
  },
  {
   "cell_type": "code",
   "execution_count": 82,
   "id": "d3acb979-cdfd-41e7-8b96-8ebd15c1db45",
   "metadata": {},
   "outputs": [
    {
     "data": {
      "text/plain": [
       "'0x1'"
      ]
     },
     "execution_count": 82,
     "metadata": {},
     "output_type": "execute_result"
    }
   ],
   "source": [
    "hex(mem.wread(0))"
   ]
  },
  {
   "cell_type": "code",
   "execution_count": 83,
   "id": "471fb19f-987d-4e43-a947-59f04b1f04d3",
   "metadata": {},
   "outputs": [],
   "source": [
    "mem.close()"
   ]
  },
  {
   "cell_type": "markdown",
   "id": "64b72359-9271-4c3d-8689-a39b78596a6b",
   "metadata": {},
   "source": [
    "I2Cs Acks"
   ]
  },
  {
   "cell_type": "markdown",
   "id": "16cdbefe-511b-4005-b90d-d57c36c515fd",
   "metadata": {},
   "source": [
    "* Bit 0 -> SCL\n",
    "* Bit 1 -> SDA"
   ]
  },
  {
   "attachments": {},
   "cell_type": "markdown",
   "id": "17266924-afce-4056-8363-46a893c9d897",
   "metadata": {},
   "source": [
    "Addrs:\n",
    "* ZL302601 -> 0x74\n",
    "* MCP4432T-503E -> 0x2C\n",
    "* MCP4728 -> 0x60"
   ]
  },
  {
   "cell_type": "markdown",
   "id": "94a28f2c-09f4-42b1-b318-e7e6951c820d",
   "metadata": {},
   "source": [
    "Read Tri-state at 0x4:\n",
    "* 1 is input (open_drain)\n",
    "* 0 is output (active drive)"
   ]
  },
  {
   "cell_type": "markdown",
   "id": "18f611ef-27d6-45c7-93be-d29a30696a3a",
   "metadata": {},
   "source": [
    "Both inputs should be pulled high when inactive"
   ]
  },
  {
   "cell_type": "markdown",
   "id": "f2a3196e-95de-4b53-854e-eb51370efd8c",
   "metadata": {},
   "source": [
    "Set SDA Low (Start)"
   ]
  },
  {
   "cell_type": "markdown",
   "id": "128f31ad-92fc-4612-9ee1-234fdd125abe",
   "metadata": {},
   "source": [
    "Set SCL Low (Start)"
   ]
  },
  {
   "cell_type": "markdown",
   "id": "6aa3fb96-73dc-44b4-925c-7ce4ba1af21a",
   "metadata": {},
   "source": [
    "Address bit6 set clk up and down"
   ]
  },
  {
   "cell_type": "code",
   "execution_count": 21,
   "id": "8085fd36-c5c3-43c2-94c2-489cac2fc8e2",
   "metadata": {},
   "outputs": [],
   "source": [
    "i2c_offset = 0xC0040000\n",
    "i2c_offset = i2c_offset - tlb_offset + pcie_offset\n",
    "i2c_mem = PcieMem(i2c_offset)"
   ]
  },
  {
   "cell_type": "code",
   "execution_count": 22,
   "id": "8ab051c7-2d78-4c7b-a737-c1ce643ea622",
   "metadata": {},
   "outputs": [],
   "source": [
    "tap_offset = 0xC00C0000\n",
    "tap_offset = tap_offset - tlb_offset + pcie_offset\n",
    "tap_mem = PcieMem(tap_offset)"
   ]
  },
  {
   "cell_type": "code",
   "execution_count": 23,
   "id": "e4eb3a7e-9b93-41da-901f-69dedaa9701a",
   "metadata": {},
   "outputs": [],
   "source": [
    "tap_mem.wwrite(0,0)"
   ]
  },
  {
   "cell_type": "code",
   "execution_count": 24,
   "id": "1c60ca7a-8395-46ac-ab4b-cc8d614bcfb1",
   "metadata": {},
   "outputs": [],
   "source": [
    "def sda (open):\n",
    "    tap_mem.wwrite(0,1)\n",
    "    #Read, Modify, write\n",
    "    value = i2c_mem.wread(0x4)\n",
    "    #keep only clk, and assign open\n",
    "    value = (open<<1) | (value & 0x1)\n",
    "    i2c_mem.wwrite(0x4,value)\n",
    "    tap_mem.wwrite(0,0)"
   ]
  },
  {
   "cell_type": "code",
   "execution_count": 25,
   "id": "911d8acd-4972-42c7-a602-bf02c3e195a9",
   "metadata": {},
   "outputs": [],
   "source": [
    "def scl (open):\n",
    "    tap_mem.wwrite(0,1)\n",
    "    #Read, Modify, write\n",
    "    value = i2c_mem.wread(0x4)\n",
    "    #keep only clk, and assign open\n",
    "    value = (open<<0) | (value & 0x2)\n",
    "    i2c_mem.wwrite(0x4,value)\n",
    "    tap_mem.wwrite(0,0)"
   ]
  },
  {
   "cell_type": "code",
   "execution_count": 26,
   "id": "d66047c3-648d-4d66-8253-f1640a3a6c24",
   "metadata": {},
   "outputs": [],
   "source": [
    "def toggle_scl ():\n",
    "    scl(1)\n",
    "    scl(0)"
   ]
  },
  {
   "cell_type": "code",
   "execution_count": 27,
   "id": "34c02598-4ed4-406b-b763-cfbd51105fcd",
   "metadata": {},
   "outputs": [
    {
     "name": "stdout",
     "output_type": "stream",
     "text": [
      "ACK: 0x0\n"
     ]
    }
   ],
   "source": [
    "sda(0)\n",
    "scl(0)\n",
    "sda(1)\n",
    "toggle_scl()\n",
    "toggle_scl()\n",
    "toggle_scl()\n",
    "sda(0)\n",
    "toggle_scl()\n",
    "sda(1)\n",
    "toggle_scl()\n",
    "sda(0)\n",
    "toggle_scl()\n",
    "toggle_scl()\n",
    "sda(0)\n",
    "toggle_scl()\n",
    "sda(1) # Also input\n",
    "scl(1)\n",
    "print(\"ACK:\",hex(i2c_mem.wread(0x0)>>1))\n",
    "scl(0)\n",
    "\n",
    "scl(1)\n",
    "sda(1)"
   ]
  },
  {
   "cell_type": "code",
   "execution_count": 28,
   "id": "e897f34f-c6f3-4387-af46-cd2650f19384",
   "metadata": {},
   "outputs": [],
   "source": [
    "def i2c_start():\n",
    "    sda(0)\n",
    "    scl(0)\n",
    "\n",
    "def i2c_stop():\n",
    "    scl(1)\n",
    "    sda(1)\n",
    "    tap_mem.wwrite(0,1)    \n",
    "    tap_mem.wwrite(0,0)\n",
    "    tap_mem.wwrite(0,1)    \n",
    "    tap_mem.wwrite(0,0)\n",
    "    tap_mem.wwrite(0,1)    \n",
    "    tap_mem.wwrite(0,0)\n",
    "    tap_mem.wwrite(0,1)    \n",
    "    tap_mem.wwrite(0,0)\n",
    "    tap_mem.wwrite(0,1)    \n",
    "    tap_mem.wwrite(0,0)"
   ]
  },
  {
   "cell_type": "code",
   "execution_count": 29,
   "id": "e84101a2-21a2-48db-aa33-1aba6cdad2a8",
   "metadata": {},
   "outputs": [],
   "source": [
    "def i2c_wbyte(byte):\n",
    "    for i in range(7,-1,-1):\n",
    "        sda_bit = 0x1&(byte>>i)\n",
    "        sda(sda_bit)\n",
    "        toggle_scl()\n",
    "    sda(1) # Also input\n",
    "    scl(1)\n",
    "    ack = (i2c_mem.wread(0x0)>>1)\n",
    "    scl(0) \n",
    "    return ack\n"
   ]
  },
  {
   "cell_type": "code",
   "execution_count": 30,
   "id": "4b2fcbf8-723e-4e7b-956b-c3df55b27aae",
   "metadata": {},
   "outputs": [
    {
     "name": "stdout",
     "output_type": "stream",
     "text": [
      "0\n"
     ]
    }
   ],
   "source": [
    "i2c_start()\n",
    "print(i2c_wbyte(0x74<<1))\n",
    "i2c_stop()"
   ]
  },
  {
   "cell_type": "code",
   "execution_count": 31,
   "id": "2c8eea3b-8f26-4aad-aed3-8edb28232da3",
   "metadata": {},
   "outputs": [],
   "source": [
    "def i2c_rbyte(nack = 0):\n",
    "    data = 0x0\n",
    "    sda(1) # Also input\n",
    "    for i in range(8):\n",
    "        data = data << 1\n",
    "        scl(1)\n",
    "        data = data | (i2c_mem.wread(0x0)>>1)\n",
    "        scl(0) \n",
    "    sda(nack)\n",
    "    toggle_scl()\n",
    "    return data"
   ]
  },
  {
   "cell_type": "code",
   "execution_count": 32,
   "id": "1670719d-4410-4862-87ca-b9249b06c5f5",
   "metadata": {},
   "outputs": [],
   "source": [
    "def i2c_mesg (addr, wbytes, rbytes=0):  #addr, byte [], number of reads\n",
    "    i2c_start()\n",
    "    ack = i2c_wbyte(addr<<1)\n",
    "    for wbyte in wbytes:\n",
    "        ack += i2c_wbyte(wbyte)    \n",
    "    i2c_stop()\n",
    "    if rbytes == 0:\n",
    "        return ack    \n",
    "    data = np.empty((0), dtype=np.uint8)\n",
    "    i2c_start()\n",
    "    ack = i2c_wbyte((addr<<1) | 0x1)\n",
    "    for i in range(rbytes-1):\n",
    "        data = np.append(data,i2c_rbyte())\n",
    "    data = np.append(data,i2c_rbyte(nack=1))\n",
    "    i2c_stop()\n",
    "    return data\n",
    "    \n",
    "        \n",
    "    "
   ]
  },
  {
   "cell_type": "code",
   "execution_count": 33,
   "id": "9176b38c-8b2c-47f5-9be5-cb42d3380802",
   "metadata": {},
   "outputs": [],
   "source": [
    "id = i2c_mesg(0x74,[0x03,0x00,0x30],2)"
   ]
  },
  {
   "cell_type": "code",
   "execution_count": 34,
   "id": "920d3642-6bb7-4c7c-babf-08e38f7ca055",
   "metadata": {
    "jupyter": {
     "source_hidden": true
    },
    "scrolled": true
   },
   "outputs": [
    {
     "name": "stdout",
     "output_type": "stream",
     "text": [
      "0x1d\n",
      "0x2\n"
     ]
    }
   ],
   "source": [
    "for value in id:\n",
    "    print(hex(value))"
   ]
  },
  {
   "cell_type": "code",
   "execution_count": 35,
   "id": "f280a75f-4e5d-4121-b7dc-37032e1c3d02",
   "metadata": {},
   "outputs": [],
   "source": [
    "lock = i2c_mesg(0x74,[0x03,0x00,0x48],1)"
   ]
  },
  {
   "cell_type": "code",
   "execution_count": 36,
   "id": "1e376aad-7932-4678-b98a-9a79d64135d4",
   "metadata": {},
   "outputs": [
    {
     "name": "stdout",
     "output_type": "stream",
     "text": [
      "0x0\n"
     ]
    }
   ],
   "source": [
    "for value in lock:\n",
    "    print(hex(value))"
   ]
  },
  {
   "cell_type": "code",
   "execution_count": 37,
   "id": "533e78fc-30d0-451c-bff9-684bd0690fc3",
   "metadata": {},
   "outputs": [],
   "source": [
    "wcmd = 0x02"
   ]
  },
  {
   "cell_type": "code",
   "execution_count": 38,
   "id": "0e64eadf-427f-4f84-95fb-7dc4119cc1e4",
   "metadata": {},
   "outputs": [],
   "source": [
    "pll_config = [[wcmd, 0x04, 0X23, 0x08],\n",
    "                [wcmd, 0x00, 0X03, 0x01],\n",
    "                [wcmd, 0x00, 0X04, 0x02],\n",
    "                [wcmd, 0x00, 0X05, 0x21],\n",
    "                [wcmd, 0x00, 0X07, 0x01],\n",
    "                [wcmd, 0x01, 0X00, 0x42],\n",
    "                [wcmd, 0x01, 0X01, 0x00],\n",
    "                [wcmd, 0x01, 0X02, 0x01],\n",
    "                [wcmd, 0x01, 0X06, 0x00],\n",
    "                [wcmd, 0x01, 0X07, 0x00],\n",
    "                [wcmd, 0x01, 0X08, 0x00],\n",
    "                [wcmd, 0x01, 0X09, 0x00],\n",
    "                [wcmd, 0x01, 0X0A, 0x20],\n",
    "                [wcmd, 0x01, 0X0B, 0x03],\n",
    "                [wcmd, 0x01, 0X21, 0x60],\n",
    "                [wcmd, 0x01, 0X27, 0x90],\n",
    "                [wcmd, 0x01, 0X41, 0x00],\n",
    "                [wcmd, 0x01, 0X42, 0x00],\n",
    "                [wcmd, 0x01, 0X43, 0x00],\n",
    "                [wcmd, 0x01, 0X44, 0x00],\n",
    "                [wcmd, 0x01, 0X45, 0xA0],\n",
    "                [wcmd, 0x01, 0X53, 0x00],\n",
    "                [wcmd, 0x01, 0X54, 0x50],\n",
    "                [wcmd, 0x01, 0X55, 0xCE],\n",
    "                [wcmd, 0x01, 0X80, 0x00],\n",
    "                [wcmd, 0x02, 0X00, 0x80],\n",
    "                [wcmd, 0x02, 0X01, 0x05],\n",
    "                [wcmd, 0x02, 0X50, 0x80],\n",
    "                [wcmd, 0x02, 0X51, 0x02],\n",
    "                [wcmd, 0x04, 0X30, 0x0C],\n",
    "                [wcmd, 0x04, 0X30, 0x00]]"
   ]
  },
  {
   "cell_type": "code",
   "execution_count": 39,
   "id": "b68fa519-0975-4c6a-9927-a176a0e38d43",
   "metadata": {},
   "outputs": [
    {
     "name": "stdout",
     "output_type": "stream",
     "text": [
      "0\n",
      "0\n",
      "0\n",
      "0\n",
      "0\n",
      "0\n",
      "0\n",
      "0\n",
      "0\n",
      "0\n",
      "0\n",
      "0\n",
      "0\n",
      "0\n",
      "0\n",
      "0\n",
      "0\n",
      "0\n",
      "0\n",
      "0\n",
      "0\n",
      "0\n",
      "0\n",
      "0\n",
      "0\n",
      "0\n",
      "0\n",
      "0\n",
      "0\n",
      "0\n",
      "0\n"
     ]
    }
   ],
   "source": [
    "for reg in pll_config:\n",
    "    print(i2c_mesg(0x74,reg))"
   ]
  },
  {
   "cell_type": "code",
   "execution_count": 40,
   "id": "f1445110-6b47-4357-adbf-71704293d207",
   "metadata": {},
   "outputs": [],
   "source": [
    "pll_accquire = [[wcmd, 0x01, 0X00, 0x02],\n",
    "                [wcmd, 0x01, 0X00, 0x42]]"
   ]
  },
  {
   "cell_type": "code",
   "execution_count": 41,
   "id": "feb6fc8d-df45-412b-a52e-b0aaa583ed7b",
   "metadata": {
    "scrolled": true
   },
   "outputs": [
    {
     "name": "stdout",
     "output_type": "stream",
     "text": [
      "0\n",
      "0\n"
     ]
    }
   ],
   "source": [
    "for reg in pll_accquire:\n",
    "    print(i2c_mesg(0x74,reg))"
   ]
  },
  {
   "cell_type": "code",
   "execution_count": 42,
   "id": "1583fe3e-bb59-4dc2-af25-c6f5e8ec6f17",
   "metadata": {},
   "outputs": [],
   "source": [
    "lock = i2c_mesg(0x74,[0x03,0x00,0x48],1)"
   ]
  },
  {
   "cell_type": "code",
   "execution_count": 43,
   "id": "adf9c90e-3105-406c-91b1-cab198df6ca8",
   "metadata": {},
   "outputs": [
    {
     "name": "stdout",
     "output_type": "stream",
     "text": [
      "0x8c\n"
     ]
    }
   ],
   "source": [
    "for value in lock:\n",
    "    print(hex(value))"
   ]
  },
  {
   "cell_type": "markdown",
   "id": "bfcfa42d-8b5e-47fd-87eb-63788550a999",
   "metadata": {},
   "source": [
    "SPI Interface"
   ]
  },
  {
   "cell_type": "code",
   "execution_count": 44,
   "id": "b6003941-11b1-4329-9fc7-f94b2c58acec",
   "metadata": {},
   "outputs": [],
   "source": [
    "spi_offset = 0xC0030000\n",
    "spi_offset = spi_offset - tlb_offset + pcie_offset\n",
    "spi_mem = PcieMem(spi_offset)"
   ]
  },
  {
   "cell_type": "code",
   "execution_count": 45,
   "id": "7bbd73f3-73e3-4120-b3d5-217f30633efa",
   "metadata": {},
   "outputs": [],
   "source": [
    "spi_mem.wwrite(0x4,0x0)"
   ]
  },
  {
   "cell_type": "code",
   "execution_count": 46,
   "id": "8e8c3751-db7a-4c97-b35c-10b8a2bd1164",
   "metadata": {},
   "outputs": [],
   "source": [
    "def spi_cs (index): #0 is clear\n",
    "    tap_mem.wwrite(0,1)\n",
    "    #Read, Modify, write\n",
    "    value = spi_mem.wread(0x0)\n",
    "    #keep only clk, and assign open\n",
    "    if index > 0:\n",
    "        value = (0x7c^(0x1<<(index+1))) | (value & 0x3)\n",
    "    else:\n",
    "        value = (0x7c) |(value & 0x3)\n",
    "    spi_mem.wwrite(0x0,value)\n",
    "    tap_mem.wwrite(0,0)"
   ]
  },
  {
   "cell_type": "code",
   "execution_count": 47,
   "id": "24cde0bb-c737-4f1d-be9e-e5d28e20653a",
   "metadata": {},
   "outputs": [],
   "source": [
    "def spi_dat (dat): #0 is clear\n",
    "    tap_mem.wwrite(0,1)\n",
    "    #Read, Modify, write\n",
    "    value = spi_mem.wread(0x0)\n",
    "    #keep only clk, and assign open\n",
    "    value = (dat<<1) | (value & 0b1111101)\n",
    "    spi_mem.wwrite(0x0,value)\n",
    "    tap_mem.wwrite(0,0)"
   ]
  },
  {
   "cell_type": "code",
   "execution_count": 48,
   "id": "fb39191d-ec56-41a3-a230-8a47a20f3d19",
   "metadata": {},
   "outputs": [],
   "source": [
    "def spi_clk (dat): #0 is clear\n",
    "    tap_mem.wwrite(0,1)\n",
    "    #Read, Modify, write\n",
    "    value = spi_mem.wread(0x0)\n",
    "    #keep only clk, and assign open\n",
    "    value = (dat) | (value & 0b1111110)\n",
    "    spi_mem.wwrite(0x0,value)\n",
    "    tap_mem.wwrite(0,0)"
   ]
  },
  {
   "cell_type": "code",
   "execution_count": 49,
   "id": "26287d8a-6f17-4c54-93b5-50fb3a16c2cf",
   "metadata": {},
   "outputs": [],
   "source": [
    "def toggle_spi_clk ():\n",
    "    spi_clk(1)\n",
    "    spi_clk(0)"
   ]
  },
  {
   "cell_type": "code",
   "execution_count": 50,
   "id": "432c5a83-836b-4897-8034-5e0f71993877",
   "metadata": {},
   "outputs": [],
   "source": [
    "spi_cs(1)\n",
    "spi_cs(0)"
   ]
  },
  {
   "cell_type": "code",
   "execution_count": 51,
   "id": "6c3f9b4c-82fe-40cf-bd9d-0802f48596e7",
   "metadata": {},
   "outputs": [],
   "source": [
    "def spi_mesg (cs , reg, data):  # for adc\n",
    "    spi_cs(cs)\n",
    "    spi_clk(0)\n",
    "    \n",
    "    for i in range(7,-1,-1):        \n",
    "        dat_bit = 0x1&(reg>>i)\n",
    "        spi_dat(dat_bit)\n",
    "        toggle_spi_clk()\n",
    "        \n",
    "    for i in range(15,-1,-1):         \n",
    "        dat_bit = 0x1&(data>>i)\n",
    "        spi_dat(dat_bit)\n",
    "        toggle_spi_clk()\n",
    "    \n",
    "    spi_clk(1)\n",
    "    spi_cs(0)\n",
    "    spi_dat(1)"
   ]
  },
  {
   "cell_type": "code",
   "execution_count": 52,
   "id": "9e65bdf5-8a4a-438e-a411-4d2c6d189e9c",
   "metadata": {},
   "outputs": [],
   "source": [
    "spi_mesg(1,0x0,0x1) # reset!"
   ]
  },
  {
   "cell_type": "code",
   "execution_count": 53,
   "id": "1ef1790a-1da2-47bc-9054-6dfe4b19eca4",
   "metadata": {},
   "outputs": [],
   "source": [
    "spi_mesg(1,0xf,0x200) # pwdn"
   ]
  },
  {
   "cell_type": "code",
   "execution_count": 54,
   "id": "80309725-cf7a-4d88-9994-f85a0a26c249",
   "metadata": {},
   "outputs": [],
   "source": [
    "spi_mesg(1,0x11,0x222) # lvds"
   ]
  },
  {
   "cell_type": "code",
   "execution_count": 55,
   "id": "9ca7c26f-0455-43a0-b3df-d3e25946fc37",
   "metadata": {},
   "outputs": [],
   "source": [
    "spi_mesg(1,0x53,0x8) # lvds lclk"
   ]
  },
  {
   "cell_type": "code",
   "execution_count": 56,
   "id": "1fab4cd1-7efa-4188-b153-ef2430142963",
   "metadata": {},
   "outputs": [],
   "source": [
    "spi_mesg(1,0x42,0x60) # lvds ddr"
   ]
  },
  {
   "cell_type": "code",
   "execution_count": 57,
   "id": "eb97190f-0125-4e7a-acd1-5fc1e8c514e7",
   "metadata": {},
   "outputs": [],
   "source": [
    "spi_mesg(1,0x46,0x4) # lvds btc"
   ]
  },
  {
   "cell_type": "code",
   "execution_count": 58,
   "id": "b320f5ff-dd2d-4525-8708-406be2741550",
   "metadata": {},
   "outputs": [],
   "source": [
    "spi_mesg(1,0x33,0x00) # lvds btc"
   ]
  },
  {
   "cell_type": "code",
   "execution_count": 59,
   "id": "4e8f49e7-ede0-494b-9c0e-7bbee851518c",
   "metadata": {},
   "outputs": [],
   "source": [
    "spi_mesg(1,0xf,0x100) # pw sleep"
   ]
  },
  {
   "cell_type": "markdown",
   "id": "9fbccb52-3781-4621-8799-1497fe53a779",
   "metadata": {},
   "source": [
    "Ramp Test"
   ]
  },
  {
   "cell_type": "code",
   "execution_count": 60,
   "id": "94891348-3f17-4154-aa29-a75ce1f779f3",
   "metadata": {},
   "outputs": [],
   "source": [
    "spi_mesg(1,0x25,0x40) # ramp-en"
   ]
  },
  {
   "cell_type": "code",
   "execution_count": 61,
   "id": "cd314489-d478-47d0-a2bc-3f50e2963f0e",
   "metadata": {},
   "outputs": [],
   "source": [
    "spi_mesg(1,0xf,0x40) # pw active"
   ]
  },
  {
   "cell_type": "markdown",
   "id": "f6084551-207b-47fd-9ab9-925f211dedfa",
   "metadata": {},
   "source": [
    "0's Test"
   ]
  },
  {
   "cell_type": "code",
   "execution_count": 62,
   "id": "fc0a3911-d7a6-4dbd-9929-b4eb697298d6",
   "metadata": {},
   "outputs": [],
   "source": [
    "spi_mesg(1,0x26,0x0000) # ramp-en"
   ]
  },
  {
   "cell_type": "code",
   "execution_count": 63,
   "id": "118743a6-1322-45b7-88ce-1fc2185858af",
   "metadata": {},
   "outputs": [],
   "source": [
    "spi_mesg(1,0x27,0x0000) # ramp-en"
   ]
  },
  {
   "cell_type": "code",
   "execution_count": 64,
   "id": "c28440a5-3eb4-4f7c-aebb-2fff4f13c4eb",
   "metadata": {},
   "outputs": [],
   "source": [
    "spi_mesg(1,0x25,0x20) # ramp-en"
   ]
  },
  {
   "cell_type": "markdown",
   "id": "869c29fb-8006-42ec-bcfd-5c5b2be3eac0",
   "metadata": {},
   "source": [
    "Close all Mems"
   ]
  },
  {
   "cell_type": "code",
   "execution_count": 65,
   "id": "fc4227e8-10c6-4d9d-b35c-753bdad2b886",
   "metadata": {},
   "outputs": [],
   "source": [
    "spi_mem.close()\n",
    "i2c_mem.close()\n",
    "tap_mem.close()"
   ]
  }
 ],
 "metadata": {
  "kernelspec": {
   "display_name": "Python 3 (ipykernel)",
   "language": "python",
   "name": "python3"
  },
  "language_info": {
   "codemirror_mode": {
    "name": "ipython",
    "version": 3
   },
   "file_extension": ".py",
   "mimetype": "text/x-python",
   "name": "python",
   "nbconvert_exporter": "python",
   "pygments_lexer": "ipython3",
   "version": "3.9.18"
  }
 },
 "nbformat": 4,
 "nbformat_minor": 5
}
